{
 "cells": [
  {
   "cell_type": "markdown",
   "id": "77f1c665",
   "metadata": {},
   "source": [
    "# Nairobi House Prices Prediction"
   ]
  },
  {
   "cell_type": "code",
   "execution_count": null,
   "id": "a4438a6f",
   "metadata": {},
   "outputs": [],
   "source": []
  }
 ],
 "metadata": {
  "kernelspec": {
   "display_name": "Python 3 (ipykernel)",
   "language": "python",
   "name": "python3"
  },
  "language_info": {
   "codemirror_mode": {
    "name": "ipython",
    "version": 3
   },
   "file_extension": ".py",
   "mimetype": "text/x-python",
   "name": "python",
   "nbconvert_exporter": "python",
   "pygments_lexer": "ipython3",
   "version": "3.11.4"
  }
 },
 "nbformat": 4,
 "nbformat_minor": 5
}
